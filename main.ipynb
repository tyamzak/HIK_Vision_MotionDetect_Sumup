{
 "cells": [
  {
   "cell_type": "code",
   "execution_count": 1,
   "metadata": {},
   "outputs": [
    {
     "name": "stdout",
     "output_type": "stream",
     "text": [
      "read_log end.\n"
     ]
    }
   ],
   "source": [
    "import pandas as pd\n",
    "from datetime import datetime\n",
    "from collections import deque\n",
    "\n",
    "def read_log(path):\n",
    "\n",
    "    cams = dict() # キー=カメラ, 値=日時リスト\n",
    "\n",
    "    with open(path, 'r', encoding='shift_jis', errors='ignore') as f:\n",
    "        read_state = 0\n",
    "        que = deque(maxlen=5)\n",
    "        while True:\n",
    "            line = f.readline()\n",
    "            if not line:\n",
    "                break\n",
    "\n",
    "            que.append(line) # いったん流れた日時行を取得するため直近5行をキューに保持\n",
    "\n",
    "            if read_state == 0:   # 開始行の探索中\n",
    "                if line.startswith('サブリスト: 動体検知開始'):\n",
    "                    line = que[-4] # 日時行\n",
    "                    pos = line.find(' ')\n",
    "                    dt = datetime.strptime(line[pos+1:].strip(), '%Y-%m-%d %H:%M:%S')\n",
    "                    read_state = 1\n",
    "\n",
    "            elif read_state == 1: # カメラ行の探索中\n",
    "                if line.startswith('カメラ No.:'):\n",
    "                    cam = line.split(':')[1].strip()\n",
    "                    if cam not in cams:\n",
    "                        cams[cam] = []\n",
    "                    cams[cam].append(dt)\n",
    "                    read_state = 0\n",
    "\n",
    "    return cams\n",
    "\n",
    "cams = read_log('logBack.txt')\n",
    "print('read_log end.')\n",
    "\n",
    "# 結果をカメラ毎にCSV出力\n",
    "for cam, dts in cams.items():\n",
    "    df = pd.DataFrame({'Date':dts})\n",
    "    df['cnt'] = 1\n",
    "    df = df.set_index('Date')\n",
    "    df = df.resample('H').sum()\n",
    "    df.to_csv(f'{cam}.csv')"
   ]
  },
  {
   "cell_type": "code",
   "execution_count": null,
   "metadata": {},
   "outputs": [],
   "source": [
    "print('test')"
   ]
  }
 ],
 "metadata": {
  "interpreter": {
   "hash": "16b516f04a02b9dc7d0664a23e439a7c19a46d711efc213d028804281cdf4a1c"
  },
  "kernelspec": {
   "display_name": "Python 3.9.13 64-bit (windows store)",
   "language": "python",
   "name": "python3"
  },
  "language_info": {
   "codemirror_mode": {
    "name": "ipython",
    "version": 3
   },
   "file_extension": ".py",
   "mimetype": "text/x-python",
   "name": "python",
   "nbconvert_exporter": "python",
   "pygments_lexer": "ipython3",
   "version": "3.9.13"
  },
  "orig_nbformat": 4
 },
 "nbformat": 4,
 "nbformat_minor": 2
}
